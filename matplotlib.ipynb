{
 "cells": [
  {
   "cell_type": "markdown",
   "metadata": {},
   "source": [
    "# Data Visualisation with matplotlib:"
   ]
  },
  {
   "cell_type": "markdown",
   "metadata": {},
   "source": [
    "matplotlib is a 2D plotting library for Python and NumPy (Python's numerical mathematical extension). It is the most popular Python library for 2D graphics, with its main aim being <i>to make easy things easy and hard things possible.</i> With just a few lines of code, one can generate line graphs, histograms, bar charts, and scatterplots, amongst many other types of graph.\n",
    "\n",
    "I am going to be focusing on the <i>pyplot</i> interface. <i>pyplot</i> provides a convenient interface to the object-oriented plotting library of matplotlib and is based quite closely on MATLAB. It is a collection of command style functions, each of which make some change to the figure (e.g. creation of a figure, plotting of lines, addition of labels)."
   ]
  },
  {
   "cell_type": "markdown",
   "metadata": {},
   "source": [
    "## matplotlib.pyplot"
   ]
  },
  {
   "cell_type": "markdown",
   "metadata": {},
   "source": [
    "<b>Before we start:</b> If you are ever plotting with matplotlib using Jupyter Notebook, you must execute <i>%matplotlib</i> before executing any code so that the Jupyter kernel is set up to display the output of matplotlib code in the notebook's cells. To have the output displayed <i>inline</i> with the notebook (recommended) below the code cell that produced it (and also store the resulting plot in the cell), execute the following command:"
   ]
  },
  {
   "cell_type": "code",
   "execution_count": 1,
   "metadata": {
    "collapsed": true
   },
   "outputs": [],
   "source": [
    "%matplotlib inline\n",
    "\n"
   ]
  },
  {
   "cell_type": "markdown",
   "metadata": {},
   "source": [
    "Let's start with a basic example of plotting with <i>pyplot</i>:\n",
    "\n",
    "- Firstly, import the <i>pyplot</i> module as follows:"
   ]
  },
  {
   "cell_type": "code",
   "execution_count": 2,
   "metadata": {},
   "outputs": [
    {
     "name": "stdout",
     "output_type": "stream",
     "text": [
      "Help on method_descriptor:\n",
      "\n",
      "append(...)\n",
      "    L.append(object) -> None -- append object to end\n",
      "\n"
     ]
    }
   ],
   "source": [
    "help(list.append)\n"
   ]
  },
  {
   "cell_type": "code",
   "execution_count": 1,
   "metadata": {
    "collapsed": true
   },
   "outputs": [],
   "source": [
    "import matplotlib.pyplot as plt"
   ]
  },
  {
   "cell_type": "markdown",
   "metadata": {},
   "source": [
    "> <b>Note:</b> The pyplot module can be imported as any name but the convention you will see used in most publications and online materials is to name it <b>plt</b>.\n",
    "\n",
    "- Similar to the methods of the <i>bokeh.plotting</i> interface, the <i>plot()</i> method in <i>pyplot</i> takes in as parameters lists of x and y co-ordinates; however, a difference between the two interfaces lies in the fact that in <i>pyplot</i>, for each pair of x and y co-ordinates, there exists an optional third formatting parameter. This parameter is passed in as a string in the general form of '(colour)(shape)'. \n",
    "\n",
    "For example, if we wish to plot green squares, we pass in the parameter 'gs' after the pair of x and y co-ordinates that the squares are representing, 'g' for 'green' and 's' for squares. See below:"
   ]
  },
  {
   "cell_type": "code",
   "execution_count": 5,
   "metadata": {},
   "outputs": [
    {
     "data": {
      "image/png": "[encoded data removed]",
      "text/plain": [
       "<matplotlib.figure.Figure at 0x1ed3d96a4e0>"
      ]
     },
     "metadata": {},
     "output_type": "display_data"
    }
   ],
   "source": [
    "#Define the x and y co-ordinates (arbitrary numbers in this case)\n",
    "x = [1,2,3,4]\n",
    "y = [1,2,3,4]\n",
    "\n",
    "#Plot the markers in the positions defined above in the given format\n",
    "plt.plot(x, y, 'bs')\n",
    "\n",
    "#Set the range of the x and y axes (x and y pairs). This is useful to ensure none of the markers are cut off. \n",
    "plt.axis([0,5,0,6])\n",
    "\n",
    "#Display the plot\n",
    "plt.show()"
   ]
  },
  {
   "cell_type": "markdown",
   "metadata": {
    "collapsed": true
   },
   "source": [
    "There are many different styles and colors that you can apply to the markers through this third parameter, which are detailed here: http://matplotlib.org/api/pyplot_api.html#matplotlib.pyplot.plot\n",
    "> <b>Note:</b> The default means of representing data when no type of marker is specified is a line."
   ]
  },
  {
   "cell_type": "code",
   "execution_count": 6,
   "metadata": {},
   "outputs": [
    {
     "data": {
      "text/plain": [
       "<function matplotlib.pyplot.show>"
      ]
     },
     "execution_count": 6,
     "metadata": {},
     "output_type": "execute_result"
    },
    {
     "data": {
      "image/png": "[encoded data removed]",
      "text/plain": [
       "<matplotlib.figure.Figure at 0x289c1945438>"
      ]
     },
     "metadata": {},
     "output_type": "display_data"
    }
   ],
   "source": [
    "#Plotting with no third style parameter\n",
    "plt.plot(x,y)\n",
    "plt.show"
   ]
  },
  {
   "cell_type": "markdown",
   "metadata": {},
   "source": [
    "The <i>plot()</i> function accepts as many x, y pairs (plus optional third style parameter with each pair) as the user wants. As you may guess, doing so results in numerous sets of markers on the same plot."
   ]
  },
  {
   "cell_type": "code",
   "execution_count": 7,
   "metadata": {},
   "outputs": [
    {
     "data": {
      "image/png": "[encoded data removed]",
      "text/plain": [
       "<matplotlib.figure.Figure at 0x289c19fa160>"
      ]
     },
     "metadata": {},
     "output_type": "display_data"
    }
   ],
   "source": [
    "#Define data\n",
    "x1 = [1,2,3,4]\n",
    "y1 = [1,2,3,4]\n",
    "\n",
    "x2 = [10,11,12,13]\n",
    "y2 = [13,12,11,10]\n",
    "\n",
    "x3 = [3,6,9,12,15]\n",
    "y3 = [20,15,10,5,0]\n",
    "\n",
    "#Plot multiple sets of markers\n",
    "plt.plot(x1, y1, 'gs', x2, y2, 'ro', x3, y3)\n",
    "\n",
    "#Set the x and y range\n",
    "plt.axis([0,15,0,20])\n",
    "\n",
    "#Display the plot\n",
    "plt.show()"
   ]
  },
  {
   "cell_type": "markdown",
   "metadata": {},
   "source": [
    "Generally when using matplotlib, it's easier to use <i>numpy</i> arrays as opposed to lists. First, you will have to make the necessary import:"
   ]
  },
  {
   "cell_type": "code",
   "execution_count": 8,
   "metadata": {
    "collapsed": true
   },
   "outputs": [],
   "source": [
    "import numpy as np"
   ]
  },
  {
   "cell_type": "markdown",
   "metadata": {
    "collapsed": true
   },
   "source": [
    "Once you have done this, you can use numpy's <i>arange()</i> function to return an array of values in a given range. "
   ]
  },
  {
   "cell_type": "code",
   "execution_count": 9,
   "metadata": {
    "collapsed": true
   },
   "outputs": [],
   "source": [
    "# Returns an array which starts at 0, ends on the number returned just before 8, and is split into intervals of length 0.5 \n",
    "x = np.arange(0., 8., 0.5)"
   ]
  },
  {
   "cell_type": "markdown",
   "metadata": {},
   "source": [
    "Then plot a few variations of the above array along with a few different formatting styles:"
   ]
  },
  {
   "cell_type": "code",
   "execution_count": 10,
   "metadata": {},
   "outputs": [
    {
     "data": {
      "image/png": "[encoded data removed]",
      "text/plain": [
       "<matplotlib.figure.Figure at 0x289c1a5c6a0>"
      ]
     },
     "metadata": {},
     "output_type": "display_data"
    }
   ],
   "source": [
    "plt.plot(x, x, 'b+', x, x**2, 'r*', x, x**3, 'y^', linewidth=1.5)\n",
    "plt.show()"
   ]
  },
  {
   "cell_type": "markdown",
   "metadata": {},
   "source": [
    "### Reading information from a file with <i>matplotlib</i>:"
   ]
  },
  {
   "cell_type": "markdown",
   "metadata": {},
   "source": [
    "Up until now we have been defining our x and y co-ordinates by manually typing the values into lists at the start of our code. This has really just been for illustrative purposes, but in real life we will obviously need to apply the above methods to more meaningful data. It's slow and inefficient to type in all of our values to a list; so what if we read them in from a file instead?\n",
    "\n",
    "Say we have a text file called <i>sample.txt</i> which is 8 lines long; each line contains one of our x-values, a comma, and one of our y-values, with no spaces in between. \n",
    "\n",
    "2,4\n",
    "1,6\n",
    "2,6\n",
    "2,8\n",
    "2,4\n",
    "5,8\n",
    "3,7\n",
    "4,6\n",
    "\n",
    "How would we extract the correct information from this file and add it to the list of x or y values?\n",
    "\n",
    "Once we have imported <i>pyplot</i>, we will set up two empty lists, one for the x co-ordinates and another for the y co-ordinates:"
   ]
  },
  {
   "cell_type": "code",
   "execution_count": 11,
   "metadata": {
    "collapsed": true
   },
   "outputs": [],
   "source": [
    "xs = []\n",
    "ys = []"
   ]
  },
  {
   "cell_type": "markdown",
   "metadata": {},
   "source": [
    "We will then open the file using Python's <i>open()</i> function. The first parameter that this function accepts is the name of the file you want to open, passed in as a string. The second parameter is one of the following:\n",
    "> <b>'r':</b> For when you want to <i>read</i> the file.\n",
    "\n",
    "> <b>'w':</b> For when you want to <i>write</i> to the file.\n",
    "\n",
    "> <b>'a':</b> For when you want to <i>append</i> to the file.\n",
    "\n",
    "<b>Note:</b> The difference between the <i>write</i> and <i>append</i> arguments is that <i>write</i> replaces the current contents of the specified file while <i>append</i> adds to the end of them."
   ]
  },
  {
   "cell_type": "markdown",
   "metadata": {},
   "source": [
    "In this case, we want to read from the file so we will be using 'r'. We will assign this opened file, ready to be read from, to a variable:"
   ]
  },
  {
   "cell_type": "code",
   "execution_count": 12,
   "metadata": {
    "collapsed": true
   },
   "outputs": [],
   "source": [
    "filehandle = open('D:\\DCU\\DCU\\Mine\\CA 682 Data Management & Visualization\\Loop Materials\\Topic 1 Introduction\\sample.txt', 'r')\n"
   ]
  },
  {
   "cell_type": "markdown",
   "metadata": {},
   "source": [
    "Now we will set up a <i>for loop</i> which will go through each line of the file specified above, and then use our knowledge of indexing to sort the two values in each line in to the list of x co-ordinates or y co-ordinates given that a comma separates them."
   ]
  },
  {
   "cell_type": "code",
   "execution_count": 13,
   "metadata": {
    "collapsed": true
   },
   "outputs": [],
   "source": [
    "#Go through each line\n",
    "for line in filehandle:\n",
    "    #Append item in 0th position of the line (x-value) to the list of x co-ordinates. Convert it to an int since it is a string\n",
    "    xs.append(int(line[0]))\n",
    "       \n",
    "    #Append item in 2nd position of the line (y-value, skipping the comma) to the list of y co-ordinates and convert to int.\n",
    "    ys.append(int(line[2]))\n",
    "   "
   ]
  },
  {
   "cell_type": "markdown",
   "metadata": {},
   "source": [
    "Before we proceed to plotting, let's check the correctness of our code by printing out the lists of x and y co-ordinates."
   ]
  },
  {
   "cell_type": "code",
   "execution_count": 14,
   "metadata": {
    "scrolled": true
   },
   "outputs": [
    {
     "name": "stdout",
     "output_type": "stream",
     "text": [
      "[2, 1, 2, 2, 2, 5, 3, 4]\n",
      "[4, 6, 6, 8, 4, 8, 7, 6]\n"
     ]
    }
   ],
   "source": [
    "print(xs)\n",
    "print(ys)\n",
    "\n"
   ]
  },
  {
   "cell_type": "markdown",
   "metadata": {},
   "source": [
    "These match up with the values that were placed in <i>sample.txt</i> so we now know that everything has worked properly above.\n",
    "\n",
    "As we have done in previous examples, we can now simply plot these points using the <i>plot()</i> method from <i>pyplot</i>, adding a third formatting parameter to make the co-ordinates appear as red circles:"
   ]
  },
  {
   "cell_type": "code",
   "execution_count": 15,
   "metadata": {},
   "outputs": [
    {
     "data": {
      "image/png": "[encoded data removed]",
      "text/plain": [
       "<matplotlib.figure.Figure at 0x289c19ac908>"
      ]
     },
     "metadata": {},
     "output_type": "display_data"
    }
   ],
   "source": [
    "plt.plot(xs, ys, 'ro')\n",
    "plt.axis([0,6,0,10])\n",
    "plt.show()"
   ]
  },
  {
   "cell_type": "markdown",
   "metadata": {},
   "source": [
    "As mentioned earlier, if we do not specify any third formatting parameter then the default means of representing the co-ordinates is a line. Lines have many attributes (see here for the full list: http://matplotlib.org/api/lines_api.html#matplotlib.lines.Line2D) which can be set in a few different ways, such as the following:\n",
    "\n",
    "- Using keywords args:"
   ]
  },
  {
   "cell_type": "code",
   "execution_count": 16,
   "metadata": {},
   "outputs": [
    {
     "data": {
      "text/plain": [
       "[<matplotlib.lines.Line2D at 0x289c1cb1c88>]"
      ]
     },
     "execution_count": 16,
     "metadata": {},
     "output_type": "execute_result"
    },
    {
     "data": {
      "image/png": "[encoded data removed]",
      "text/plain": [
       "<matplotlib.figure.Figure at 0x289c1bfb4a8>"
      ]
     },
     "metadata": {},
     "output_type": "display_data"
    }
   ],
   "source": [
    "plt.plot([1,2,3,4], [1,2,3,4], color='r', linewidth=1.5)"
   ]
  },
  {
   "cell_type": "markdown",
   "metadata": {},
   "source": [
    "> <b>Note:</b> Keywords args must always be placed after x and y parameters.\n",
    "\n",
    "- Using the <i>setp()</i> command to set multiple properties on a list of lines."
   ]
  },
  {
   "cell_type": "code",
   "execution_count": 17,
   "metadata": {},
   "outputs": [
    {
     "data": {
      "image/png": "[encoded data removed]",
      "text/plain": [
       "<matplotlib.figure.Figure at 0x289c1ccc0f0>"
      ]
     },
     "metadata": {},
     "output_type": "display_data"
    }
   ],
   "source": [
    "lines = plt.plot([1,2,3,4],[1,2,3,4],[5,6,7,8],[8,7,6,5])\n",
    "plt.setp(lines, linewidth=1.8, color='g', alpha=0.5)\n",
    "plt.axis([1,9,1,9])\n",
    "plt.show()"
   ]
  },
  {
   "cell_type": "markdown",
   "metadata": {},
   "source": [
    "### Adding some text to our plots:"
   ]
  },
  {
   "cell_type": "markdown",
   "metadata": {},
   "source": [
    "So far we have been creating a variety of different plots, however none have had any text element. Having text on plots is very important, whether it be to provide a title, to label the x and y axes, to create a legend, or to highlight a point of interest. Text serves the purpose of clarifying ambiguities, explaining what different things mean, and emphasising important points.\n",
    "\n",
    "As with lines, text objects have many attributes which can be set by including the appopriate <i>keywords arguments</i> in the function that adds the text to the plot. See here for the full list of attributes: http://matplotlib.org/api/text_api.html#matplotlib.text.Text\n",
    "\n",
    "The following are a few examples of different ways of adding text to your plots using matplotlib:"
   ]
  },
  {
   "cell_type": "code",
   "execution_count": 20,
   "metadata": {},
   "outputs": [
    {
     "data": {
      "image/png": "[encoded data removed]",
      "text/plain": [
       "<matplotlib.figure.Figure at 0x289c1e51f98>"
      ]
     },
     "metadata": {},
     "output_type": "display_data"
    }
   ],
   "source": [
    "plt.plot([1,2,3,4,5,6],[2,2,3,4,3,2],[1,2,3,4,5,6],[2,2,3,4,3,2], 'ro')\n",
    "plt.axis([1,6,1,6])\n",
    "\n",
    "#Add a title\n",
    "plt.title('Average Daily Temperature', fontsize=18)\n",
    "#Add a label for the x-axis\n",
    "plt.xlabel('Day', fontsize=14)\n",
    "#Add a label for the y-axis\n",
    "plt.ylabel('Temperature', fontsize=14)\n",
    "#Add a comment about a particular part of the plot\n",
    "plt.text(1.1, 3.5, 'Temperature starts to rise')\n",
    "#Add another comment\n",
    "plt.text(5, 1.5, 'Drops again')\n",
    "#Point out a point of interest in the plot\n",
    "plt.annotate('Highest Point', xy=(4,4), xytext=(3.5,5), arrowprops=dict(facecolor='black', shrink=0.05), fontsize=13)\n",
    "\n",
    "plt.show()"
   ]
  },
  {
   "cell_type": "markdown",
   "metadata": {
    "collapsed": true
   },
   "source": [
    "Another means of visually representing data in <i>matplotlib</i> is using bar charts. These can be created easily as follows:"
   ]
  },
  {
   "cell_type": "code",
   "execution_count": 6,
   "metadata": {},
   "outputs": [
    {
     "data": {
      "image/png": "[encoded data removed]",
      "text/plain": [
       "<matplotlib.figure.Figure at 0x26122f2cbe0>"
      ]
     },
     "metadata": {},
     "output_type": "display_data"
    }
   ],
   "source": [
    "x = [1,3,5,7,9]\n",
    "y = [4,7,2,6,7]\n",
    "\n",
    "plt.bar(x, y)\n",
    "plt.axis([0,11,0,10])\n",
    "plt.title(\"Sample Bar Chart\", fontsize=18)\n",
    "\n",
    "plt.show()"
   ]
  },
  {
   "cell_type": "markdown",
   "metadata": {},
   "source": [
    "If we want to plot more than one set of bars, it is important that we create a means of distinguishing between them. This can be achieved by making them different colors and including a legend which tells the reader which bars are which."
   ]
  },
  {
   "cell_type": "code",
   "execution_count": 19,
   "metadata": {},
   "outputs": [
    {
     "data": {
      "image/png": "[encoded data removed]",
      "text/plain": [
       "<matplotlib.figure.Figure at 0x5fc1e70>"
      ]
     },
     "metadata": {},
     "output_type": "display_data"
    }
   ],
   "source": [
    "x = [1,3,5,7,9]\n",
    "y = [4,7,2,6,7]\n",
    "\n",
    "x2 = [2,4,6,8,10]\n",
    "y2 = [5,2,5,4,9]\n",
    "\n",
    "plt.bar(x, y, label=\"bars1\", color=\"r\")\n",
    "plt.bar(x2, y2, label=\"bars2\", color=\"g\")\n",
    "\n",
    "plt.axis([0,12,0,10])\n",
    "\n",
    "plt.legend()\n",
    "\n",
    "plt.show()"
   ]
  },
  {
   "cell_type": "markdown",
   "metadata": {},
   "source": [
    "Hopefully this notebook has given an insightful overview of the matplotlib library. \n",
    "\n",
    "For more information on other Python data visualisation libraries and their application, see the other notebooks in this set."
   ]
  }
 ],
 "metadata": {
  "kernelspec": {
   "display_name": "Python 3",
   "language": "python",
   "name": "python3"
  },
  "language_info": {
   "codemirror_mode": {
    "name": "ipython",
    "version": 3
   },
   "file_extension": ".py",
   "mimetype": "text/x-python",
   "name": "python",
   "nbconvert_exporter": "python",
   "pygments_lexer": "ipython3",
   "version": "3.6.1"
  }
 },
 "nbformat": 4,
 "nbformat_minor": 1
}
